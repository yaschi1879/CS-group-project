{
 "cells": [
  {
   "cell_type": "code",
   "execution_count": 7,
   "metadata": {},
   "outputs": [],
   "source": [
    "import requests"
   ]
  },
  {
   "cell_type": "code",
   "execution_count": 28,
   "metadata": {},
   "outputs": [],
   "source": [
    "def get_profile(player_id):\n",
    "    url = f\"https://transfermarkt-api.fly.dev/players/{player_id}/profile\"\n",
    "    response = requests.get(url)\n",
    "    player_profile = response.json()\n",
    "    return player_profile"
   ]
  },
  {
   "cell_type": "code",
   "execution_count": 29,
   "metadata": {},
   "outputs": [
    {
     "data": {
      "text/plain": [
       "{'id': '105470',\n",
       " 'url': 'https://www.transfermarkt.com/alisson/profil/spieler/105470',\n",
       " 'name': 'Alisson',\n",
       " 'description': 'Alisson, 32, from Brazil ➤ Liverpool FC, since 2018 ➤ Goalkeeper ➤ Market value: €28.00m ➤ * Oct 2, 1992 in Novo Hamburgo, Brazil',\n",
       " 'fullName': 'Alisson Ramses Becker',\n",
       " 'imageURL': 'https://img.a.transfermarkt.technology/portrait/header/105470-1668522221.jpg?lm=1',\n",
       " 'dateOfBirth': 'Oct 2, 1992',\n",
       " 'placeOfBirth': {'city': 'Novo Hamburgo', 'country': 'Brazil'},\n",
       " 'age': '32',\n",
       " 'height': '1,93m',\n",
       " 'citizenship': ['Brazil'],\n",
       " 'isRetired': False,\n",
       " 'position': {'main': 'Goalkeeper'},\n",
       " 'foot': 'right',\n",
       " 'shirtNumber': '#1',\n",
       " 'club': {'id': '31',\n",
       "  'name': 'Liverpool',\n",
       "  'joined': 'Jul 19, 2018',\n",
       "  'contractExpires': 'Jun 30, 2027'},\n",
       " 'marketValue': '€28.00m',\n",
       " 'agent': {'name': 'NWS - Neis World ...',\n",
       "  'url': '/nws-esportes-ltda-/beraterfirma/berater/6191'},\n",
       " 'outfitter': 'Nike',\n",
       " 'updatedAt': '2024-11-17T15:53:09.070996'}"
      ]
     },
     "execution_count": 29,
     "metadata": {},
     "output_type": "execute_result"
    }
   ],
   "source": [
    "get_profile(105470)"
   ]
  },
  {
   "cell_type": "code",
   "execution_count": null,
   "metadata": {},
   "outputs": [],
   "source": []
  }
 ],
 "metadata": {
  "kernelspec": {
   "display_name": "streamlit_env",
   "language": "python",
   "name": "python3"
  },
  "language_info": {
   "codemirror_mode": {
    "name": "ipython",
    "version": 3
   },
   "file_extension": ".py",
   "mimetype": "text/x-python",
   "name": "python",
   "nbconvert_exporter": "python",
   "pygments_lexer": "ipython3",
   "version": "3.12.4"
  }
 },
 "nbformat": 4,
 "nbformat_minor": 2
}
