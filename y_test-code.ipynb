{
 "cells": [
  {
   "cell_type": "code",
   "execution_count": 16,
   "metadata": {},
   "outputs": [],
   "source": [
    "from c_support.b_player_data import player_dictionary"
   ]
  },
  {
   "cell_type": "code",
   "execution_count": 21,
   "metadata": {},
   "outputs": [],
   "source": [
    "y = [\"Champions League\"]"
   ]
  },
  {
   "cell_type": "code",
   "execution_count": 22,
   "metadata": {},
   "outputs": [
    {
     "name": "stdout",
     "output_type": "stream",
     "text": [
      "['Champions League']\n"
     ]
    }
   ],
   "source": [
    "print(y)"
   ]
  },
  {
   "cell_type": "code",
   "execution_count": 17,
   "metadata": {},
   "outputs": [
    {
     "name": "stdout",
     "output_type": "stream",
     "text": [
      "{'id': '88755', 'name': 'Kevin De Bruyne', 'age': 33, 'height': 181, 'image': 'https://img.a.transfermarkt.technology/portrait/header/88755-1713391485.jpg?lm=1', 'country': 'Belgium', 'classified_position': 'Midfielder', 'position': ['Attacking Midfield', 'Central Midfield'], 'shirt_number': '17', 'club_id': '281', 'club_name': 'Man City', 'league_id': 'GB1', 'league_name': 'Premier League', 'old_clubs_ids': ['82', '631', '86', '631', '1184', '631', '1184', '3494', '49393', '34282', '34281'], 'old_clubs_name': ['VfL Wolfsburg', 'Chelsea', 'Werder Bremen', 'Chelsea', 'KRC Genk', 'Chelsea', 'KRC Genk', 'KRC Genk U19', 'KRC Genk U17', 'KRC Genk Youth', 'KAA Gent Youth'], 'titels': ['Top 5 League', 'Champions League'], 'old_stadium': 'Cegeka Arena', 'foot': 'right', 'joined_date': 'Aug 30, 2015'}\n"
     ]
    }
   ],
   "source": [
    "x = player_dictionary(88755)\n",
    "print(x)"
   ]
  },
  {
   "cell_type": "code",
   "execution_count": 18,
   "metadata": {},
   "outputs": [
    {
     "name": "stdout",
     "output_type": "stream",
     "text": [
      "['Top 5 League', 'Champions League']\n"
     ]
    }
   ],
   "source": [
    "x = player_dictionary(88755)[\"titels\"]\n",
    "print(x)"
   ]
  },
  {
   "cell_type": "code",
   "execution_count": 24,
   "metadata": {},
   "outputs": [
    {
     "name": "stdout",
     "output_type": "stream",
     "text": [
      "True\n"
     ]
    }
   ],
   "source": [
    "match_found = False\n",
    "if isinstance(x, list):\n",
    "        for answer in y:\n",
    "            if answer in x:\n",
    "                match_found = True\n",
    "                break\n",
    "\n",
    "print(match_found)"
   ]
  },
  {
   "cell_type": "code",
   "execution_count": null,
   "metadata": {},
   "outputs": [],
   "source": [
    "import streamlit as st\n",
    "import pandas as pd\n",
    "from c_support.b_player_data import player_dictionary\n",
    "from c_support.a_api_functions import get_player_name_user_input, get_marketvalue_history\n",
    "\n",
    "\n",
    "def searchbar():\n",
    "    st.header(\"Search Engine\")\n",
    "    col1, col2 = st.columns([3,1])\n",
    "\n",
    "    with col1:\n",
    "        user_input = st.text_input (\"Geben Sie ein, wonach Sie suchen möchten:\", label_visibility=\"collapsed\", placeholder=\"Type something...\")\n",
    "    with col2:\n",
    "        search_button = st.button(\"Search\")\n",
    "      \n",
    "    if search_button:\n",
    "        with st.spinner (\"Searching for player... ⚽\"):\n",
    "            player_id = get_player_name_user_input(user_input)[0]\n",
    "        if player_id == \"n.a.\":\n",
    "            st.warning(f\"no active player found for: {user_input}\")\n",
    "        else:\n",
    "            with st.spinner (\"Gathering data... ⚽\"):\n",
    "                player = player_dictionary(player_id)\n",
    "                st.write(f\"search result for: {user_input}\")\n",
    "\n",
    "            if isinstance(player, dict):\n",
    "                # If the `player` dictionary itself represents the result\n",
    "                if player_id in player.get(\"id\", \"\"):  # Safely check if the ID matches\n",
    "                    # Spielerinfo als Überschrift und Bild\n",
    "                    st.title(player[\"name\"])\n",
    "                    st.image(player[\"image\"], caption=f\"{player['name']} ({player['classified_position']})\", width=250)\n",
    "\n",
    "                    # Informationen in zwei Spalten aufteilen\n",
    "                    col1, col2 = st.columns(2)\n",
    "\n",
    "                    with col1:\n",
    "                        st.subheader(\"Personal Details:\")\n",
    "                        st.markdown(f\"\"\"\n",
    "                        - *Nationality:* {player['country']}\n",
    "                        - *Age:* {player['age']}\n",
    "                        - *Height:* {player['height']} cm\n",
    "                        - *Foot:* {player['foot']}\n",
    "                        \"\"\")\n",
    "\n",
    "                    with col2:\n",
    "                        st.subheader(\"Club and League:\")\n",
    "                        st.markdown(f\"\"\"\n",
    "                        - *Club:* {player['club_name']}\n",
    "                        - *Joined the club:* {player['joined_date']}\n",
    "                        - *Shirt Number:* {player['shirt_number']}\n",
    "                        - *League:* {player['league_name']}\n",
    "                        \"\"\")\n",
    "\n",
    "                    # Positionen und Erfolge als separate Abschnitte\n",
    "                    st.subheader(\"Position:\")\n",
    "                    st.markdown(\", \".join(player[\"position\"]))\n",
    "\n",
    "                    st.subheader(\"Titles:\")\n",
    "                    st.markdown(\", \".join(player[\"titels\"]))\n",
    "\n",
    "                    st.subheader(\"Former Clubs:\")\n",
    "                    old_clubs_name_unique = []\n",
    "                    for club in player[\"old_clubs_name\"]:\n",
    "                        if club not in old_clubs_name_unique:\n",
    "                            old_clubs_name_unique.append(club)\n",
    "                    st.markdown(\", \".join(old_clubs_name_unique))\n",
    "\n",
    "    try:\n",
    "        market_value = get_marketvalue_history(player_id)\n",
    "\n",
    "        # Prüfe, ob Daten vorhanden sind\n",
    "        if not market_value or len(market_value) == 0:\n",
    "            st.warning(\"No market value data available.\")\n",
    "        else:\n",
    "            # Daten in ein DataFrame umwandeln\n",
    "            df = pd.DataFrame(market_value)\n",
    "\n",
    "            def clean_value(value):\n",
    "                value = value.replace('€', '').replace(',', '')\n",
    "                if 'm' in value:\n",
    "                    return float(value.replace('m', ''))\n",
    "                elif 'k' in value:\n",
    "                    return float(value.replace('k', '')) / 1000\n",
    "\n",
    "            df[\"value\"] = df[\"value\"].apply(lambda x: clean_value(x) if isinstance(x, str) else None)\n",
    "            df['date'] = pd.to_datetime(df['date'], format=\"%b %d, %Y\", errors='coerce')\n",
    "\n",
    "            # Prüfe auf ungültige Werte\n",
    "            if df['date'].isna().any():\n",
    "                st.warning(\"Some dates could not be parsed. Check the data format.\")\n",
    "\n",
    "            df = df.sort_values(by='date')\n",
    "\n",
    "            if df.empty or df['value'].isna().all():\n",
    "                st.warning(\"No valid data to display.\")\n",
    "            else:\n",
    "        # Line Chart darstellen\n",
    "                st.subheader(\"Market Value Development (in Mio. EUR)\")\n",
    "                st.line_chart(df[['date', 'value']].set_index('date'))\n",
    "\n",
    "    except Exception as e:\n",
    "        if player_id != \"n.a.\":\n",
    "            st.warning(f\"Line Chart not available: {e}\")"
   ]
  }
 ],
 "metadata": {
  "kernelspec": {
   "display_name": "streamlit_env",
   "language": "python",
   "name": "python3"
  },
  "language_info": {
   "codemirror_mode": {
    "name": "ipython",
    "version": 3
   },
   "file_extension": ".py",
   "mimetype": "text/x-python",
   "name": "python",
   "nbconvert_exporter": "python",
   "pygments_lexer": "ipython3",
   "version": "3.12.4"
  }
 },
 "nbformat": 4,
 "nbformat_minor": 2
}
