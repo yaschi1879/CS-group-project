{
 "cells": [
  {
   "cell_type": "code",
   "execution_count": 3,
   "metadata": {},
   "outputs": [
    {
     "ename": "ModuleNotFoundError",
     "evalue": "No module named 'c_support'",
     "output_type": "error",
     "traceback": [
      "\u001b[1;31m---------------------------------------------------------------------------\u001b[0m",
      "\u001b[1;31mModuleNotFoundError\u001b[0m                       Traceback (most recent call last)",
      "Cell \u001b[1;32mIn[3], line 1\u001b[0m\n\u001b[1;32m----> 1\u001b[0m \u001b[38;5;28;01mfrom\u001b[39;00m \u001b[38;5;21;01mc_support\u001b[39;00m\u001b[38;5;21;01m.\u001b[39;00m\u001b[38;5;21;01mb_player_data\u001b[39;00m \u001b[38;5;28;01mimport\u001b[39;00m player_dictionary\n",
      "\u001b[1;31mModuleNotFoundError\u001b[0m: No module named 'c_support'"
     ]
    }
   ],
   "source": [
    "from c_support.b_player_data import player_dictionary"
   ]
  },
  {
   "cell_type": "code",
   "execution_count": null,
   "metadata": {},
   "outputs": [],
   "source": [
    "y = [\"Champions League\"]"
   ]
  },
  {
   "cell_type": "code",
   "execution_count": null,
   "metadata": {},
   "outputs": [
    {
     "name": "stdout",
     "output_type": "stream",
     "text": [
      "['Champions League']\n"
     ]
    }
   ],
   "source": [
    "print(y)"
   ]
  },
  {
   "cell_type": "code",
   "execution_count": null,
   "metadata": {},
   "outputs": [
    {
     "name": "stdout",
     "output_type": "stream",
     "text": [
      "{'id': '88755', 'name': 'Kevin De Bruyne', 'age': 33, 'height': 181, 'image': 'https://img.a.transfermarkt.technology/portrait/header/88755-1713391485.jpg?lm=1', 'country': 'Belgium', 'classified_position': 'Midfielder', 'position': ['Attacking Midfield', 'Central Midfield'], 'shirt_number': '17', 'club_id': '281', 'club_name': 'Man City', 'league_id': 'GB1', 'league_name': 'Premier League', 'old_clubs_ids': ['82', '631', '86', '631', '1184', '631', '1184', '3494', '49393', '34282', '34281'], 'old_clubs_name': ['VfL Wolfsburg', 'Chelsea', 'Werder Bremen', 'Chelsea', 'KRC Genk', 'Chelsea', 'KRC Genk', 'KRC Genk U19', 'KRC Genk U17', 'KRC Genk Youth', 'KAA Gent Youth'], 'titels': ['Top 5 League', 'Champions League'], 'old_stadium': 'Cegeka Arena', 'foot': 'right', 'joined_date': 'Aug 30, 2015'}\n"
     ]
    }
   ],
   "source": [
    "x = player_dictionary(88755)\n",
    "print(x)"
   ]
  },
  {
   "cell_type": "code",
   "execution_count": null,
   "metadata": {},
   "outputs": [
    {
     "name": "stdout",
     "output_type": "stream",
     "text": [
      "['Top 5 League', 'Champions League']\n"
     ]
    }
   ],
   "source": [
    "x = player_dictionary(88755)[\"titels\"]\n",
    "print(x)"
   ]
  },
  {
   "cell_type": "code",
   "execution_count": null,
   "metadata": {},
   "outputs": [
    {
     "name": "stdout",
     "output_type": "stream",
     "text": [
      "True\n"
     ]
    }
   ],
   "source": [
    "match_found = False\n",
    "if isinstance(x, list):\n",
    "        for answer in y:\n",
    "            if answer in x:\n",
    "                match_found = True\n",
    "                break\n",
    "\n",
    "print(match_found)"
   ]
  },
  {
   "cell_type": "code",
   "execution_count": null,
   "metadata": {},
   "outputs": [],
   "source": []
  }
 ],
 "metadata": {
  "kernelspec": {
   "display_name": "base",
   "language": "python",
   "name": "python3"
  },
  "language_info": {
   "codemirror_mode": {
    "name": "ipython",
    "version": 3
   },
   "file_extension": ".py",
   "mimetype": "text/x-python",
   "name": "python",
   "nbconvert_exporter": "python",
   "pygments_lexer": "ipython3",
   "version": "3.12.4"
  }
 },
 "nbformat": 4,
 "nbformat_minor": 2
}
