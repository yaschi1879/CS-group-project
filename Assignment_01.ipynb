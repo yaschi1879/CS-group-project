{
 "cells": [
  {
   "cell_type": "markdown",
   "metadata": {
    "tags": []
   },
   "source": [
    "# Assignment 1: Programming Basics\n",
    "\n",
    "## Introduction: A Simple Calculation Operator as your first computer program!\n",
    "This assignment will introduce the following arithmetic operations:\n",
    "* Addition: `+`\n",
    "* Subtraction: `-`\n",
    "* Multiplication: `*`\n",
    "* Division: `/`\n",
    "* Power Function: `**`"
   ]
  },
  {
   "cell_type": "markdown",
   "metadata": {},
   "source": [
    "## Task 1.1\n",
    "\n",
    "First, we need two variables that we want to add:\n",
    "\n",
    "Define the variables `x` and `y` and assign them the integer values `10` (for `x`) and `4` (for `y`):"
   ]
  },
  {
   "cell_type": "markdown",
   "metadata": {},
   "source": [
    "### Testing?\n",
    "How can you test if your code is working correctly? Test your own code:\n",
    "\n",
    "Check if you defined the variable `x` by `print`-ing it:"
   ]
  },
  {
   "cell_type": "code",
   "execution_count": 1,
   "metadata": {},
   "outputs": [
    {
     "name": "stdout",
     "output_type": "stream",
     "text": [
      "14\n"
     ]
    }
   ],
   "source": [
    "# Add your code here:\n",
    "x=10\n",
    "y=4\n",
    "\n",
    "print(x+y)\n",
    "\n",
    "\n",
    "\n"
   ]
  },
  {
   "cell_type": "code",
   "execution_count": 2,
   "metadata": {
    "scrolled": true
   },
   "outputs": [
    {
     "name": "stdout",
     "output_type": "stream",
     "text": [
      "10\n",
      "hello\n",
      "again\n",
      "try again\n"
     ]
    }
   ],
   "source": [
    "print(x)\n",
    "print('hello')\n",
    "print('again')\n",
    "print('try again')"
   ]
  },
  {
   "cell_type": "markdown",
   "metadata": {},
   "source": [
    "If you see the value `10` below the cell then it worked! If you you see an error, __read__ it and try to understand what it means. __Do not ignore__ any error or be scared of the rather long output. Check where the error occurs: _What does the error say?_, _What did Python expect but what was actually given?_\n",
    "\n",
    "\n",
    "In these assignments, we will use *automated unit test* to verify the implementation. This means that the code below will call your functions (in later assignments), test if the variables you defined actually exist and if their value is correct."
   ]
  },
  {
   "cell_type": "code",
   "execution_count": 3,
   "metadata": {
    "id": "-1WHAEWJR991",
    "nbgrader": {
     "grade": true,
     "grade_id": "task_1.1",
     "locked": true,
     "points": 1,
     "schema_version": 3,
     "solution": false,
     "task": false
    }
   },
   "outputs": [
    {
     "name": "stdout",
     "output_type": "stream",
     "text": [
      "\n",
      "\u001b[37;42;2m  Success! Your code works as intended.  \u001b[0m\n",
      "\n"
     ]
    }
   ],
   "source": [
    "# This is a very simple test if you defined variable x. You do not need to understand it fully.\n",
    "# If you get any error here, this means that your implementation above is incorrect.\n",
    "# Read the error message!\n",
    "from unittest import TestCase\n",
    "test_case = TestCase()\n",
    "\n",
    "# This test will verify that variable x has been declared.\n",
    "test_case.assertIsNotNone(\n",
    "    \n",
    "    # If the result of this function call is actually None, the\n",
    "    # message will be shown and the test fails.\n",
    "    locals().get('x', None),\n",
    "    \n",
    "    # This message is printed in the error message if, and only if,\n",
    "    # the above function call returns the None value.\n",
    "    msg=\"You did not define variable x.\"\n",
    ")\n",
    "\n",
    "\n",
    "# Similar to the test above, we will test if the type of variable x\n",
    "# is an integer (=int).\n",
    "test_case.assertIsInstance(\n",
    "    \n",
    "    # We give the variable x to test:\n",
    "    x,\n",
    "    \n",
    "    # And the type against which the given variable x should be tested.\n",
    "    int,\n",
    "    \n",
    "    # Finally, we'll show a nice error message iff x is *NOT* an integer\n",
    "    msg=\"You did not define x to be an integer.\"\n",
    ")\n",
    "\n",
    "\n",
    "# Now we know that you created a variable with the name x and that it is\n",
    "# an integer. But we still have to check what the value of this\n",
    "# integer value is.\n",
    "# The task tells you that you have to set it to contain the value 10,\n",
    "# so we test that the value of variable x is actually 10.\n",
    "test_case.assertEqual(\n",
    "    \n",
    "    # The variable to check\n",
    "    x,\n",
    "    \n",
    "    # The expected value that MUST be in x to succeed.\n",
    "    10,\n",
    "    \n",
    "    # And the content of the error message if x is any other value.\n",
    "    msg=\"You did not define x to be 10.\"\n",
    ")\n",
    "\n",
    "\n",
    "# Now, we tested variable x and it works. Still, the tasks wants you\n",
    "# also to define an integer variable with the name y and the value 4.\n",
    "# So, the following lines will do the same thing as above but\n",
    "# for variable y.\n",
    "\n",
    "# This test will verify that variable x has been declared.\n",
    "test_case.assertIsNotNone(    \n",
    "    locals().get('y', None),\n",
    "    msg=\"You did not define variable y.\"\n",
    ")\n",
    "test_case.assertIsInstance(x, int, msg=\"You did not define x to be an integer.\")\n",
    "test_case.assertEqual(x, 10, msg=\"You did not define x to be 10.\")\n",
    "\n",
    "\n",
    "# After each test cell, there is this print statement. It is only executed if the cell\n",
    "# didn't stop before.\n",
    "# If you see this success message, the test succeeded, meaning, your implementation\n",
    "# does exactly this what we test for.\n",
    "print(\"\\n\\033[37;42;2m  Success! Your code works as intended.  \\033[0m\\n\")"
   ]
  },
  {
   "cell_type": "markdown",
   "metadata": {},
   "source": [
    "The next test fails __intentionally__. It will test if there is variable defined with the name `h`. Check the error message, it tells you that the variable `h` is not defined!"
   ]
  },
  {
   "cell_type": "code",
   "execution_count": 4,
   "metadata": {},
   "outputs": [
    {
     "ename": "AssertionError",
     "evalue": "unexpectedly None : You did not define a variable with the name h.",
     "output_type": "error",
     "traceback": [
      "\u001b[1;31m---------------------------------------------------------------------------\u001b[0m",
      "\u001b[1;31mAssertionError\u001b[0m                            Traceback (most recent call last)",
      "Cell \u001b[1;32mIn[4], line 1\u001b[0m\n\u001b[1;32m----> 1\u001b[0m test_case\u001b[38;5;241m.\u001b[39massertIsNotNone(\u001b[38;5;28mlocals\u001b[39m()\u001b[38;5;241m.\u001b[39mget(\u001b[38;5;124m'\u001b[39m\u001b[38;5;124mh\u001b[39m\u001b[38;5;124m'\u001b[39m, \u001b[38;5;28;01mNone\u001b[39;00m), msg\u001b[38;5;241m=\u001b[39m\u001b[38;5;124m\"\u001b[39m\u001b[38;5;124mYou did not define a variable with the name h.\u001b[39m\u001b[38;5;124m\"\u001b[39m)\n",
      "File \u001b[1;32mc:\\Users\\Yannick Uni\\anaconda3\\Lib\\unittest\\case.py:1287\u001b[0m, in \u001b[0;36mTestCase.assertIsNotNone\u001b[1;34m(self, obj, msg)\u001b[0m\n\u001b[0;32m   1285\u001b[0m \u001b[38;5;28;01mif\u001b[39;00m obj \u001b[38;5;129;01mis\u001b[39;00m \u001b[38;5;28;01mNone\u001b[39;00m:\n\u001b[0;32m   1286\u001b[0m     standardMsg \u001b[38;5;241m=\u001b[39m \u001b[38;5;124m'\u001b[39m\u001b[38;5;124munexpectedly None\u001b[39m\u001b[38;5;124m'\u001b[39m\n\u001b[1;32m-> 1287\u001b[0m     \u001b[38;5;28mself\u001b[39m\u001b[38;5;241m.\u001b[39mfail(\u001b[38;5;28mself\u001b[39m\u001b[38;5;241m.\u001b[39m_formatMessage(msg, standardMsg))\n",
      "File \u001b[1;32mc:\\Users\\Yannick Uni\\anaconda3\\Lib\\unittest\\case.py:715\u001b[0m, in \u001b[0;36mTestCase.fail\u001b[1;34m(self, msg)\u001b[0m\n\u001b[0;32m    713\u001b[0m \u001b[38;5;28;01mdef\u001b[39;00m \u001b[38;5;21mfail\u001b[39m(\u001b[38;5;28mself\u001b[39m, msg\u001b[38;5;241m=\u001b[39m\u001b[38;5;28;01mNone\u001b[39;00m):\n\u001b[0;32m    714\u001b[0m \u001b[38;5;250m    \u001b[39m\u001b[38;5;124;03m\"\"\"Fail immediately, with the given message.\"\"\"\u001b[39;00m\n\u001b[1;32m--> 715\u001b[0m     \u001b[38;5;28;01mraise\u001b[39;00m \u001b[38;5;28mself\u001b[39m\u001b[38;5;241m.\u001b[39mfailureException(msg)\n",
      "\u001b[1;31mAssertionError\u001b[0m: unexpectedly None : You did not define a variable with the name h."
     ]
    }
   ],
   "source": [
    "test_case.assertIsNotNone(locals().get('h', None), msg=\"You did not define a variable with the name h.\")"
   ]
  },
  {
   "cell_type": "markdown",
   "metadata": {},
   "source": [
    "## Task 1.2"
   ]
  },
  {
   "cell_type": "markdown",
   "metadata": {},
   "source": [
    "Now that we have the variable `x` and `y` in scope, we can do calculations.\n",
    "\n",
    "* Define variable `z1` to be the result of adding the two _variables_ `x` and `y`.\n",
    "* Define variable `z2` to be the result of subtracting the two _variables_ `x` and `y`.\n",
    "* Define variable `z3` to be the result of multiplying the two _variables_ `x` and `y`."
   ]
  },
  {
   "cell_type": "code",
   "execution_count": null,
   "metadata": {},
   "outputs": [],
   "source": [
    "# Add your code here:\n",
    "z1 = x + y\n",
    "z2 = x - y\n",
    "z3 = x * y\n"
   ]
  },
  {
   "cell_type": "code",
   "execution_count": null,
   "metadata": {},
   "outputs": [
    {
     "name": "stdout",
     "output_type": "stream",
     "text": [
      "\n",
      "\u001b[37;42;2m  Success! Your code works as intended.  \u001b[0m\n",
      "\n"
     ]
    }
   ],
   "source": [
    "# Again, here we test your implementation with test cases\n",
    "from unittest import TestCase\n",
    "\n",
    "test_case = TestCase()\n",
    "test_case.assertIsNotNone(locals().get('z1', None), msg=\"You did not define a variable with the name z1.\")\n",
    "test_case.assertEqual(z1, 14, msg=\"You did not compute z1 correctly.\")\n",
    "\n",
    "test_case.assertIsNotNone(locals().get('z1', None), msg=\"You did not define a variable with the name z2.\")\n",
    "test_case.assertEqual(z2, 6, msg=\"You did not compute z2 correctly.\")\n",
    "\n",
    "test_case.assertIsNotNone(locals().get('z1', None), msg=\"You did not define a variable with the name z3.\")\n",
    "test_case.assertEqual(z3, 40, msg=\"You did not compute z3 correctly.\")\n",
    "\n",
    "print(\"\\n\\033[37;42;2m  Success! Your code works as intended.  \\033[0m\\n\")"
   ]
  },
  {
   "cell_type": "markdown",
   "metadata": {},
   "source": [
    "## Task 1.2 (Division)\n",
    "\n",
    "A division is a bit different. The result of a division is __always__ of type `float`, no matter if the two operands are `int`, `float`, or a mixture.\n",
    "Additionally, a division is dangerous because a division by `0` is not possible.\n",
    "\n",
    "Try the division of `x` by `0`."
   ]
  },
  {
   "cell_type": "markdown",
   "metadata": {},
   "source": [
    "See that there is a well-defined error message for this exact type or error? It is called `ZeroDivionError` and it occurs if there a divison by zero."
   ]
  },
  {
   "cell_type": "markdown",
   "metadata": {},
   "source": [
    "For this task, store the result of the division of `x` by `y` in the variable `z4`."
   ]
  },
  {
   "cell_type": "code",
   "execution_count": null,
   "metadata": {},
   "outputs": [],
   "source": [
    "# Add your code here:\n",
    "z4 = x/y\n",
    "\n"
   ]
  },
  {
   "cell_type": "code",
   "execution_count": null,
   "metadata": {},
   "outputs": [
    {
     "name": "stdout",
     "output_type": "stream",
     "text": [
      "\n",
      "\u001b[37;42;2m  Success! Your code works as intended.  \u001b[0m\n",
      "\n"
     ]
    }
   ],
   "source": [
    "# Again, here we test your implementation with test cases\n",
    "from unittest import TestCase\n",
    "\n",
    "test_case = TestCase()\n",
    "\n",
    "test_case.assertIsNotNone(locals().get('z4', None), msg=\"You did not define a variable with the name z4.\")\n",
    "test_case.assertEqual(z4, 2.5, msg=\"You did not compute z4 correctly.\")\n",
    "\n",
    "print(\"\\n\\033[37;42;2m  Success! Your code works as intended.  \\033[0m\\n\")"
   ]
  },
  {
   "cell_type": "markdown",
   "metadata": {},
   "source": [
    "---\n",
    "## Task 1.3 (Combination 1)\n",
    "\n",
    "Now, we want to combine a few arithmetic operation:\n",
    "\n",
    "1. Define the variables `x`, `y`, and `z` with the values `3`, `41`, and `7`.\n",
    "2. Define a new variable `r` with the initial value `3.145`.\n",
    "3. Add `x` to `r` (store the result in `r`).\n",
    "4. Add the result of the division of `y` by `z` to `r` (store the result in `r`).\n",
    "5. Multiply `r` by `x` (store the result in `r`).\n",
    "6. Subtract the result of the product of `x` and `z` from `r`  (store the result in `r`)."
   ]
  },
  {
   "cell_type": "code",
   "execution_count": null,
   "metadata": {},
   "outputs": [],
   "source": [
    "# Add your code here:\n",
    "x=3\n",
    "y=41\n",
    "z=7\n",
    "r=3.145\n",
    "r=r+x\n",
    "r=r+y/z\n",
    "r=r*x\n",
    "r=r-x*z\n",
    "\n",
    "\n"
   ]
  },
  {
   "cell_type": "code",
   "execution_count": null,
   "metadata": {},
   "outputs": [
    {
     "name": "stdout",
     "output_type": "stream",
     "text": [
      "\n",
      "\u001b[37;42;2m  Success! Your code works as intended.  \u001b[0m\n",
      "\n"
     ]
    }
   ],
   "source": [
    "# Again, here we test your implementation with test cases\n",
    "from unittest import TestCase\n",
    "\n",
    "test_case = TestCase()\n",
    "\n",
    "test_case.assertIsNotNone(locals().get('r', None), msg=\"You did not define a variable with the name r.\")\n",
    "\n",
    "# Because of the binary representation of float numbers, we can't test for actual equality but we'll only\n",
    "# check that they are *almost* equal (here with 1 decimal place).\n",
    "test_case.assertAlmostEqual(r, 15.01, places=2, msg=\"You did not compute r correctly.\")\n",
    "\n",
    "print(\"\\n\\033[37;42;2m  Success! Your code works as intended.  \\033[0m\\n\")"
   ]
  },
  {
   "cell_type": "markdown",
   "metadata": {},
   "source": [
    "---\n",
    "## Task 1.4 (Combination 2)\n",
    "\n",
    "Another example:\n",
    "\n",
    "1. Define the variables `x`, `y`, and `z` with the values `4.2`, `4`, and `14`.\n",
    "2. Define the variable `r` with the initial value `2`.\n",
    "3. Add `x`, `y`, and `z` in one step and multiply the result with `r` (store in `r`).\n",
    "4. Add the square of `y` to `r` (store in `r`).\n",
    "5. Divide `r` by the result of the addition of `y` and `1` (store in `r`).\n",
    "6. Multiply `r` by `y` to the power of the division of `y` by `2` (store in `r`)."
   ]
  },
  {
   "cell_type": "code",
   "execution_count": null,
   "metadata": {},
   "outputs": [],
   "source": [
    "# Add your code here:\n",
    "\n"
   ]
  },
  {
   "cell_type": "code",
   "execution_count": null,
   "metadata": {},
   "outputs": [],
   "source": [
    "# Again, here we test your implementation with test cases\n",
    "from unittest import TestCase\n",
    "\n",
    "test_case = TestCase()\n",
    "\n",
    "test_case.assertIsNotNone(locals().get('r', None), msg=\"You did not define a variable with the name r.\")\n",
    "\n",
    "# Because of the binary representation of float numbers, we can't test for actual equality but we'll only\n",
    "# check that they are *almost* equal (here with 1 decimal place).\n",
    "test_case.assertAlmostEqual(r, 193.28, places=2, msg=\"You did not compute r correctly.\")\n",
    "\n",
    "print(\"\\n\\033[37;42;2m  Success! Your code works as intended.  \\033[0m\\n\")"
   ]
  },
  {
   "cell_type": "markdown",
   "metadata": {},
   "source": [
    "# Next part\n",
    "\n",
    "\n",
    "Write code that prints the string `'Hello World!'`."
   ]
  },
  {
   "cell_type": "code",
   "execution_count": null,
   "metadata": {},
   "outputs": [
    {
     "name": "stdout",
     "output_type": "stream",
     "text": [
      "Hello World!\n"
     ]
    }
   ],
   "source": [
    "# Add your code here:\n",
    "print('Hello World!')\n"
   ]
  },
  {
   "cell_type": "markdown",
   "metadata": {},
   "source": [
    "If the only output of the _cell_ above is `Hello World!`, you did everything correct and can move on.\n",
    "\n",
    "If there is a big red error message, __don't panic!__. There will be times when you see many error messages. _This is a good thing._ How else would you know that the piece of code doesn't work?\n",
    "\n",
    "---"
   ]
  },
  {
   "cell_type": "markdown",
   "metadata": {},
   "source": [
    "## How to read Error Messages and _debug_ the code?\n",
    "A lot of time during programming is spent on fixing errors in the code. There definitely will be times during this course when you run into errors. But how can you understand and fix them?\n",
    "\n",
    "Let's look at the next example:"
   ]
  },
  {
   "cell_type": "code",
   "execution_count": null,
   "metadata": {},
   "outputs": [
    {
     "ename": "NameError",
     "evalue": "name 'number' is not defined",
     "output_type": "error",
     "traceback": [
      "\u001b[1;31m---------------------------------------------------------------------------\u001b[0m",
      "\u001b[1;31mNameError\u001b[0m                                 Traceback (most recent call last)",
      "Cell \u001b[1;32mIn[45], line 2\u001b[0m\n\u001b[0;32m      1\u001b[0m num \u001b[38;5;241m=\u001b[39m \u001b[38;5;241m3\u001b[39m \u001b[38;5;241m*\u001b[39m \u001b[38;5;241m5\u001b[39m\n\u001b[1;32m----> 2\u001b[0m \u001b[38;5;28mprint\u001b[39m(number)\n",
      "\u001b[1;31mNameError\u001b[0m: name 'number' is not defined"
     ]
    }
   ],
   "source": [
    "num = 3 * 5\n",
    "print(number)"
   ]
  },
  {
   "cell_type": "markdown",
   "metadata": {},
   "source": [
    "In this example, an error appears. You can see the _Stack Trace_ or _Traceback_ of where in the code the error occured **first**. The last line tells you that a `NameError` was encountered when the cell was executed. Check the Python Documentation to see that this error means: [NameError Description](https://docs.python.org/3/library/exceptions.html#NameError)\n",
    "\n",
    "The documentation reads:\n",
    "\n",
    "> Raised when a local or global name is not found. This applies only to unqualified names. The associated value is an error message that includes the name that could not be found.\n",
    "\n",
    "Also, the _message_ in the last line gives you (mostly) more detailed information of what went wrong. Here, it tells you that the _name_ `'number'` is not defined. Additionally, the traceback tells with the arrow in which line the error occured, here it is line `2`.\n",
    "\n",
    "Based on this information, (1) we print a variable with the name `number` and (2) the name `number` is not defined, we can deduce that the variable with the name `number` was not defined when we tried to print it. Now, it is up to us to fix this error.\n",
    "\n",
    "We follow these steps:\n",
    "* Which error occured? ✅ (`NameError`)\n",
    "* Where did the error occur? ✅ (Line `2`)\n",
    "* What should the code do?\n",
    "    * We wanted to print the result from the calcuation inside variable `num`.\n",
    "* What did the code do instead?\n",
    "    * It tried to print the content of the variable `number`.\n",
    "* How can we fix it?\n",
    "    * We rename the variable with the result to `number`, or we print the variable `num`. (See: Multiple solutions exist!)"
   ]
  },
  {
   "cell_type": "code",
   "execution_count": null,
   "metadata": {},
   "outputs": [],
   "source": [
    "number = 3 * 5\n",
    "print(number)\n",
    "\n",
    "# Success!"
   ]
  },
  {
   "cell_type": "markdown",
   "metadata": {},
   "source": [
    "---\n",
    "## Task 2.1\n",
    "\n",
    "Define the variable `s1` with any value (integer, float or string)"
   ]
  },
  {
   "cell_type": "code",
   "execution_count": null,
   "metadata": {},
   "outputs": [],
   "source": [
    "# Add your code here:\n",
    "s1='hi'\n"
   ]
  },
  {
   "cell_type": "code",
   "execution_count": null,
   "metadata": {},
   "outputs": [
    {
     "name": "stdout",
     "output_type": "stream",
     "text": [
      "\n",
      "\u001b[37;42;2m  Success! Your code works as intended.  \u001b[0m\n",
      "\n"
     ]
    }
   ],
   "source": [
    "from unittest import TestCase\n",
    "test_case = TestCase()\n",
    "\n",
    "test_case.assertIsNotNone(locals().get('s1', None), msg=\"You did not define a variable with the name s1.\")\n",
    "\n",
    "print(\"\\n\\033[37;42;2m  Success! Your code works as intended.  \\033[0m\\n\")"
   ]
  },
  {
   "cell_type": "markdown",
   "metadata": {},
   "source": [
    "---\n",
    "### How to understand the test cases\n",
    "\n",
    "The next cell will fail intentionally, it will show you how the tests are done and how to understand them."
   ]
  },
  {
   "cell_type": "code",
   "execution_count": null,
   "metadata": {},
   "outputs": [
    {
     "ename": "AssertionError",
     "evalue": "False is not true",
     "output_type": "error",
     "traceback": [
      "\u001b[1;31m---------------------------------------------------------------------------\u001b[0m",
      "\u001b[1;31mAssertionError\u001b[0m                            Traceback (most recent call last)",
      "Cell \u001b[1;32mIn[52], line 4\u001b[0m\n\u001b[0;32m      1\u001b[0m \u001b[38;5;28;01mfrom\u001b[39;00m \u001b[38;5;21;01munittest\u001b[39;00m \u001b[38;5;28;01mimport\u001b[39;00m TestCase\n\u001b[0;32m      2\u001b[0m test_case \u001b[38;5;241m=\u001b[39m TestCase()\n\u001b[1;32m----> 4\u001b[0m test_case\u001b[38;5;241m.\u001b[39massertTrue(\u001b[38;5;28;01mFalse\u001b[39;00m)\n",
      "File \u001b[1;32m~\\anaconda3\\Lib\\unittest\\case.py:727\u001b[0m, in \u001b[0;36mTestCase.assertTrue\u001b[1;34m(self, expr, msg)\u001b[0m\n\u001b[0;32m    725\u001b[0m \u001b[38;5;28;01mif\u001b[39;00m \u001b[38;5;129;01mnot\u001b[39;00m expr:\n\u001b[0;32m    726\u001b[0m     msg \u001b[38;5;241m=\u001b[39m \u001b[38;5;28mself\u001b[39m\u001b[38;5;241m.\u001b[39m_formatMessage(msg, \u001b[38;5;124m\"\u001b[39m\u001b[38;5;132;01m%s\u001b[39;00m\u001b[38;5;124m is not true\u001b[39m\u001b[38;5;124m\"\u001b[39m \u001b[38;5;241m%\u001b[39m safe_repr(expr))\n\u001b[1;32m--> 727\u001b[0m     \u001b[38;5;28;01mraise\u001b[39;00m \u001b[38;5;28mself\u001b[39m\u001b[38;5;241m.\u001b[39mfailureException(msg)\n",
      "\u001b[1;31mAssertionError\u001b[0m: False is not true"
     ]
    }
   ],
   "source": [
    "from unittest import TestCase\n",
    "test_case = TestCase()\n",
    "\n",
    "test_case.assertTrue(False)  # We check if False is True. This fails!"
   ]
  },
  {
   "cell_type": "markdown",
   "metadata": {},
   "source": [
    "Here we see that the error is an `AssertionError`. The lower half of the stack trace shows us code that is called by the code that we have written. This useful when we are using code from other projects in our own projects. In this case we don't need it though.\n",
    "\n",
    "The structure of the stack trace is that at the bottom it shows the line of code that caused the error, and then above that code block there can be more code blocks, with code that has caused the code in the lower block to be called.\n",
    "\n",
    "In our example (from top to bottom): `assert_true(False)` was executed in line 2, which caused the code in the lower half to be executed, where in line 765 an error happened.\n",
    "\n",
    "The error further tells us that `'False is not true'`. In the upper half we see that `assert_true(False)` was executed in line 2. This means that the value inside `assert_true()` should have been `True` and not `False`.\n",
    "\n",
    "The tests that check your code will usually check that the value that your code calculated is the same as the correct answer. That way you can find out which value is wrong and by looking at your code then figure out why. \n",
    "\n",
    "Another example is given in the next cell:\n",
    "\n",
    "\n",
    "We assume task is to:\n",
    "* Define the variables `a`, `b` with the integer values `10` and `5`.\n",
    "* Multiply `a` and `b` and store the result in `c`."
   ]
  },
  {
   "cell_type": "code",
   "execution_count": null,
   "metadata": {},
   "outputs": [],
   "source": [
    "# The code\n",
    "a = 10\n",
    "b = 5\n",
    "\n",
    "c = a + b"
   ]
  },
  {
   "cell_type": "code",
   "execution_count": null,
   "metadata": {},
   "outputs": [
    {
     "ename": "AssertionError",
     "evalue": "15 != 50 : The actual value of c is not the same as the expected value.",
     "output_type": "error",
     "traceback": [
      "\u001b[1;31m---------------------------------------------------------------------------\u001b[0m",
      "\u001b[1;31mAssertionError\u001b[0m                            Traceback (most recent call last)",
      "Cell \u001b[1;32mIn[57], line 5\u001b[0m\n\u001b[0;32m      2\u001b[0m \u001b[38;5;28;01mfrom\u001b[39;00m \u001b[38;5;21;01munittest\u001b[39;00m \u001b[38;5;28;01mimport\u001b[39;00m TestCase\n\u001b[0;32m      3\u001b[0m test_case \u001b[38;5;241m=\u001b[39m TestCase()\n\u001b[1;32m----> 5\u001b[0m test_case\u001b[38;5;241m.\u001b[39massertEqual(c, \u001b[38;5;241m50\u001b[39m, msg\u001b[38;5;241m=\u001b[39m\u001b[38;5;124m\"\u001b[39m\u001b[38;5;124mThe actual value of c is not the same as the expected value.\u001b[39m\u001b[38;5;124m\"\u001b[39m)\n\u001b[0;32m      7\u001b[0m \u001b[38;5;28mprint\u001b[39m(\u001b[38;5;124m\"\u001b[39m\u001b[38;5;130;01m\\n\u001b[39;00m\u001b[38;5;130;01m\\033\u001b[39;00m\u001b[38;5;124m[37;42;2m  Success! Your code works as intended.  \u001b[39m\u001b[38;5;130;01m\\033\u001b[39;00m\u001b[38;5;124m[0m\u001b[39m\u001b[38;5;130;01m\\n\u001b[39;00m\u001b[38;5;124m\"\u001b[39m)\n",
      "File \u001b[1;32m~\\anaconda3\\Lib\\unittest\\case.py:885\u001b[0m, in \u001b[0;36mTestCase.assertEqual\u001b[1;34m(self, first, second, msg)\u001b[0m\n\u001b[0;32m    881\u001b[0m \u001b[38;5;250m\u001b[39m\u001b[38;5;124;03m\"\"\"Fail if the two objects are unequal as determined by the '=='\u001b[39;00m\n\u001b[0;32m    882\u001b[0m \u001b[38;5;124;03m   operator.\u001b[39;00m\n\u001b[0;32m    883\u001b[0m \u001b[38;5;124;03m\"\"\"\u001b[39;00m\n\u001b[0;32m    884\u001b[0m assertion_func \u001b[38;5;241m=\u001b[39m \u001b[38;5;28mself\u001b[39m\u001b[38;5;241m.\u001b[39m_getAssertEqualityFunc(first, second)\n\u001b[1;32m--> 885\u001b[0m assertion_func(first, second, msg\u001b[38;5;241m=\u001b[39mmsg)\n",
      "File \u001b[1;32m~\\anaconda3\\Lib\\unittest\\case.py:878\u001b[0m, in \u001b[0;36mTestCase._baseAssertEqual\u001b[1;34m(self, first, second, msg)\u001b[0m\n\u001b[0;32m    876\u001b[0m standardMsg \u001b[38;5;241m=\u001b[39m \u001b[38;5;124m'\u001b[39m\u001b[38;5;132;01m%s\u001b[39;00m\u001b[38;5;124m != \u001b[39m\u001b[38;5;132;01m%s\u001b[39;00m\u001b[38;5;124m'\u001b[39m \u001b[38;5;241m%\u001b[39m _common_shorten_repr(first, second)\n\u001b[0;32m    877\u001b[0m msg \u001b[38;5;241m=\u001b[39m \u001b[38;5;28mself\u001b[39m\u001b[38;5;241m.\u001b[39m_formatMessage(msg, standardMsg)\n\u001b[1;32m--> 878\u001b[0m \u001b[38;5;28;01mraise\u001b[39;00m \u001b[38;5;28mself\u001b[39m\u001b[38;5;241m.\u001b[39mfailureException(msg)\n",
      "\u001b[1;31mAssertionError\u001b[0m: 15 != 50 : The actual value of c is not the same as the expected value."
     ]
    }
   ],
   "source": [
    "# The test code\n",
    "from unittest import TestCase\n",
    "test_case = TestCase()\n",
    "\n",
    "test_case.assertEqual(c, 50, msg=\"The actual value of c is not the same as the expected value.\")\n",
    "\n",
    "print(\"\\n\\033[37;42;2m  Success! Your code works as intended.  \\033[0m\\n\")"
   ]
  },
  {
   "cell_type": "markdown",
   "metadata": {},
   "source": [
    "We see another `AssertionError` with the message `15 != 50`.\n",
    "\n",
    "Again, the lower half of the traceback doesn't really help us but the first half does: we see our code, where the test case checks if `c` is _equal_ to `50`. From the error, the `AssertionError` we know that this test fails, so the value of `c` is definitely **not** equal to `50`. The error also tells us that the actual value of `c` was `15`. That is really helpful.\n",
    "\n",
    "So, how can we fix it? We follow the steps:\n",
    "\n",
    "* Which error occured? ✅ (`AssertionError`)\n",
    "* Where did the error occur? ✅ (Line `2`)\n",
    "* What should the code do?\n",
    "    * It should succeed if `c` is equal to `50`.\n",
    "* What did the code do instead?\n",
    "    * It failed because the value of `c` is `15`.\n",
    "* How can we fix it?\n",
    "    * We go to our code, read the instruction again, and we understand why the test cases wanted the result to be `50`: It should have been a multiplication instead of the addition. Then, we change it to the correc toperator."
   ]
  },
  {
   "cell_type": "code",
   "execution_count": null,
   "metadata": {},
   "outputs": [],
   "source": [
    "# Your code\n",
    "a = 10\n",
    "b = 5\n",
    "\n",
    "c = a * b  # we fix the bug"
   ]
  },
  {
   "cell_type": "code",
   "execution_count": null,
   "metadata": {},
   "outputs": [
    {
     "name": "stdout",
     "output_type": "stream",
     "text": [
      "\n",
      "\u001b[37;42;2m  Success! Your code works as intended.  \u001b[0m\n",
      "\n"
     ]
    }
   ],
   "source": [
    "# The test code\n",
    "from unittest import TestCase\n",
    "test_case = TestCase()\n",
    "\n",
    "test_case.assertEqual(c, 50, msg=\"The actual value of c is not the same as the expected value.\")\n",
    "\n",
    "print(\"\\n\\033[37;42;2m  Success! Your code works as intended.  \\033[0m\\n\")"
   ]
  },
  {
   "cell_type": "markdown",
   "metadata": {},
   "source": [
    "---\n",
    "## Task 2.2\n",
    "\n",
    "Change the _type_ of variable `rating` to `int`."
   ]
  },
  {
   "cell_type": "code",
   "execution_count": null,
   "metadata": {},
   "outputs": [
    {
     "name": "stdout",
     "output_type": "stream",
     "text": [
      "Variable rating has the type: <class 'str'>\n",
      "Now, variable rating has the type: <class 'int'>\n"
     ]
    }
   ],
   "source": [
    "rating = \"5\"\n",
    "print(\"Variable rating has the type:\", type(rating))\n",
    "\n",
    "# Add your code here:\n",
    "rating = int(rating)\n",
    "\n",
    "\n",
    "print(\"Now, variable rating has the type:\", type(rating))"
   ]
  },
  {
   "cell_type": "markdown",
   "metadata": {},
   "source": [
    "We test again, this time we test that `rating` has the correct _type_."
   ]
  },
  {
   "cell_type": "code",
   "execution_count": null,
   "metadata": {},
   "outputs": [
    {
     "name": "stdout",
     "output_type": "stream",
     "text": [
      "\n",
      "\u001b[37;42;2m  Success! Your code works as intended.  \u001b[0m\n",
      "\n"
     ]
    }
   ],
   "source": [
    "# The test code. You *MUST NOT* change the test case cells.\n",
    "from unittest import TestCase\n",
    "test_case = TestCase()\n",
    "\n",
    "test_case.assertIsInstance(rating, int, msg=\"The type of variable 'rating' is NOT int.\")\n",
    "\n",
    "print(\"\\n\\033[37;42;2m  Success! Your code works as intended.  \\033[0m\\n\")"
   ]
  },
  {
   "cell_type": "markdown",
   "metadata": {},
   "source": [
    "---\n",
    "## Task 2.3 (Geometric Calculus)\n",
    "\n",
    "For a circle of radius `3`, compute the diameter, circumference, and area.\n",
    "For $\\pi$, instantiate the variable `pi` with the float value `3.14159`.\n",
    "\n",
    "Use these formulæ:\n",
    "* $ \\text{diameter} = 2 r $\n",
    "* $ \\text{circumference} = 2 \\pi r $\n",
    "* $ \\text{area} = \\pi r^2 $"
   ]
  },
  {
   "cell_type": "code",
   "execution_count": null,
   "metadata": {},
   "outputs": [],
   "source": [
    "# Add your code here:\n",
    "radius = 3\n",
    "pi = 3.14159\n",
    "\n",
    "diameter = 2 * radius\n",
    "circumference = 2 * pi * radius\n",
    "area = pi * radius**2"
   ]
  },
  {
   "cell_type": "code",
   "execution_count": null,
   "metadata": {},
   "outputs": [
    {
     "name": "stdout",
     "output_type": "stream",
     "text": [
      "\n",
      "\u001b[37;42;2m  Success! Your code works as intended.  \u001b[0m\n",
      "\n"
     ]
    }
   ],
   "source": [
    "# Test code: DO NOT MODIFY\n",
    "from unittest import TestCase\n",
    "test_case = TestCase()\n",
    "\n",
    "# Test if all variables are defined:\n",
    "test_case.assertIsNotNone(locals().get('radius', None), msg='You did not define variable `radius`.')\n",
    "test_case.assertIsNotNone(locals().get('pi', None), msg='You did not define variable `pi`.')\n",
    "test_case.assertIsNotNone(locals().get('diameter', None), msg='You did not define variable `diameter`.')\n",
    "test_case.assertIsNotNone(locals().get('circumference', None), msg='You did not define variable `circumference`.')\n",
    "test_case.assertIsNotNone(locals().get('area', None), msg='You did not define variable `area`.')\n",
    "\n",
    "# Test if the values are correct:\n",
    "test_case.assertAlmostEqual(radius, 3, msg='You did not define the radius correctly.')\n",
    "test_case.assertAlmostEqual(pi, 3.14159, msg='You did not define pi correctly.')\n",
    "test_case.assertAlmostEqual(diameter, 6, msg='Wrong result for diameter.')\n",
    "test_case.assertAlmostEqual(circumference, 18.849539999999998, msg='Wrong result for circumference.')\n",
    "test_case.assertAlmostEqual(area, 28.27431, msg='Wrong result for area.')\n",
    "\n",
    "\n",
    "print(\"\\n\\033[37;42;2m  Success! Your code works as intended.  \\033[0m\\n\")"
   ]
  },
  {
   "cell_type": "markdown",
   "metadata": {},
   "source": [
    "---\n",
    "## Task 2.4 (Modulo)\n",
    "Use `if` statements that change the value of variable `check` to `True` if the value in variable `num` is _even_ and to `False` if it is _odd_. (even means, it is dividable by 2 without a rest, odd is if there is rest after the division by 2).\n",
    "Set the value of `check` to `True`/`False` inside the _body_ of the `if` statements. You can use `else` and/or `elif`!\n",
    "Note, that the type must be boolean!\n",
    "\n",
    "\n",
    "This is small **self-study** task. Check what the _modulo operator_ does:\n",
    "* The [Python Documentation](https://docs.python.org/3/library/stdtypes.html#numeric-types-int-float-complex) (which is sadly in this case not very helpful)\n",
    "* Your favorite [search engine](https://duckduckgo.com/?t=ffab&q=python+modulo+operator)\n",
    "* [Wikipedia](https://en.wikipedia.org/wiki/Modulo_operation) for a generic description"
   ]
  },
  {
   "cell_type": "code",
   "execution_count": null,
   "metadata": {},
   "outputs": [],
   "source": [
    "def is_even(num):\n",
    "    check = None\n",
    "    # Add your code here (keep the indentation!)\n",
    "    if num % 2 == 0:\n",
    "        check = True\n",
    "    else:\n",
    "        check = False\n",
    "    \n",
    "    # add your code above this line. Keep the indentation and do not modify the rest of this cell.\n",
    "    return check"
   ]
  },
  {
   "cell_type": "code",
   "execution_count": null,
   "metadata": {},
   "outputs": [
    {
     "name": "stdout",
     "output_type": "stream",
     "text": [
      "\n",
      "\u001b[37;42;2m  Success! Your code works as intended.  \u001b[0m\n",
      "\n"
     ]
    }
   ],
   "source": [
    "# Test code:\n",
    "from inspect import isfunction\n",
    "from unittest import TestCase\n",
    "\n",
    "test_case = TestCase()\n",
    "\n",
    "# Did you execute the cell and it defined the function correctly?\n",
    "test_case.assertTrue(isfunction(is_even), msg=\"You did either not execute the cell above or changed something you shouldn't have changed.\")\n",
    "test_case.assertIsInstance(is_even(2), bool, msg='Your function must *return* a boolean!')\n",
    "test_case.assertIsInstance(is_even(3), bool, msg='Your function must *return* a boolean!')\n",
    "\n",
    "# Checking a few value:\n",
    "test_case.assertTrue(is_even(2), msg=\"2 is supposed to be even, you set False\")\n",
    "test_case.assertTrue(is_even(42), msg=\"42 is supposed to be even, you set False\")\n",
    "test_case.assertTrue(is_even(23218232), msg=\"23218232 is supposed to be even, you set False\")\n",
    "test_case.assertFalse(is_even(1), msg=\"1 is supposed to be odd, you set True\")\n",
    "test_case.assertFalse(is_even(21), msg=\"21 is supposed to be odd, you set True\")\n",
    "test_case.assertFalse(is_even(777), msg=\"777 is supposed to be odd, you set True\")\n",
    "\n",
    "\n",
    "print(\"\\n\\033[37;42;2m  Success! Your code works as intended.  \\033[0m\\n\")"
   ]
  },
  {
   "cell_type": "markdown",
   "metadata": {},
   "source": [
    "---\n",
    "# Debugging given code (Multiple Choice)\n",
    "\n",
    "There is one error in each code snippet. Try to check by looking at the code what is wrong.\n",
    "There is only _one_ correct solution. If you want to execute the code, use a _new_ and _empty_ notebook for this.\n",
    "\n",
    "After each cell, set the variable `solution` to either the string characters `a`, `b`, `c`, or `d`."
   ]
  },
  {
   "cell_type": "markdown",
   "metadata": {},
   "source": [
    "---\n",
    "## Task 3.1\n",
    "\n",
    "What is wrong with the following code:\n",
    "\n",
    "```python\n",
    "a = 5\n",
    "b = a - 5\n",
    "c = a / b\n",
    "```\n",
    "\n",
    "* **a**) We forgot to define variable `c`.\n",
    "* **b**) We divide by zero.\n",
    "* **c**) We forgot to convert the type of `c` to `int`.\n",
    "* **d**) We tried to do an arithmetic operation with the types `int` and `str`."
   ]
  },
  {
   "cell_type": "code",
   "execution_count": null,
   "metadata": {},
   "outputs": [],
   "source": [
    "# Add your code here:\n",
    "solution = 'b'"
   ]
  },
  {
   "cell_type": "code",
   "execution_count": null,
   "metadata": {},
   "outputs": [
    {
     "name": "stdout",
     "output_type": "stream",
     "text": [
      "\n",
      "\u001b[37;42;2m  Correct choice!  \u001b[0m\n",
      "\n"
     ]
    }
   ],
   "source": [
    "# Test case, to not modify. (It is a bit obfuscated to not show the correct solution right away.)\n",
    "from unittest import TestCase\n",
    "test_case = TestCase()\n",
    "\n",
    "test_case.assertTrue(bytes(solution,'ascii')[0]*0o42 == 0xd04, msg='This choice is incorrect.')\n",
    "\n",
    "\n",
    "print(\"\\n\\033[37;42;2m  Correct choice!  \\033[0m\\n\")"
   ]
  },
  {
   "cell_type": "markdown",
   "metadata": {},
   "source": [
    "---\n",
    "## Task 3.2\n",
    "\n",
    "What is wrong with the following code:\n",
    "\n",
    "```python\n",
    "a = 5\n",
    "b = \"5\"\n",
    "c = a / b\n",
    "```\n",
    "\n",
    "* **a**) We forgot to define variable `c`.\n",
    "* **b**) We divide by zero.\n",
    "* **c**) We forgot to convert the type of `c` to `int`.\n",
    "* **d**) We tried to do an arithmetic operation with the types `int` and `str`."
   ]
  },
  {
   "cell_type": "code",
   "execution_count": null,
   "metadata": {},
   "outputs": [],
   "source": [
    "# Add your code here:\n",
    "solution = 'd'\n"
   ]
  },
  {
   "cell_type": "code",
   "execution_count": null,
   "metadata": {},
   "outputs": [
    {
     "name": "stdout",
     "output_type": "stream",
     "text": [
      "\n",
      "\u001b[37;42;2m  Correct choice!  \u001b[0m\n",
      "\n"
     ]
    }
   ],
   "source": [
    "# Test case, to not modify. (It is a bit obfuscated to not show the correct solution right away.)\n",
    "from unittest import TestCase\n",
    "test_case = TestCase()\n",
    "\n",
    "test_case.assertTrue(bytes(solution,'ascii')[0]*0o31 == 0x9c4, msg='This choice is incorrect.')\n",
    "\n",
    "\n",
    "print(\"\\n\\033[37;42;2m  Correct choice!  \\033[0m\\n\")"
   ]
  },
  {
   "cell_type": "markdown",
   "metadata": {},
   "source": [
    "---\n",
    "## Task 3.3\n",
    "\n",
    "What is wrong with the following code:\n",
    "\n",
    "```python\n",
    "a = 5\n",
    "b = a - 3\n",
    "c = str(a - b)\n",
    "print(\"It is\", c > 7, \"that the integer value of 'c' is greater than 7\")\n",
    "```\n",
    "\n",
    "* **a**) We forgot to define variable `c`.\n",
    "* **b**) We divide by zero.\n",
    "* **c**) We forgot to convert the type of `c` to `int`.\n",
    "* **d**) We tried to do an arithmetic operation with the types `int` and `str`."
   ]
  },
  {
   "cell_type": "code",
   "execution_count": null,
   "metadata": {},
   "outputs": [],
   "source": [
    "# Add your code here:\n",
    "solution = 'c'\n"
   ]
  },
  {
   "cell_type": "code",
   "execution_count": null,
   "metadata": {},
   "outputs": [
    {
     "name": "stdout",
     "output_type": "stream",
     "text": [
      "\n",
      "\u001b[37;42;2m  Correct choice!  \u001b[0m\n",
      "\n"
     ]
    }
   ],
   "source": [
    "# Test case, to not modify. (It is a bit obfuscated to not show the correct solution right away.)\n",
    "from unittest import TestCase\n",
    "test_case = TestCase()\n",
    "\n",
    "test_case.assertTrue(bytes(solution,'ascii')[0]*0b11 == 0x129, msg='This choice is incorrect.')\n",
    "\n",
    "\n",
    "print(\"\\n\\033[37;42;2m  Correct choice!  \\033[0m\\n\")"
   ]
  },
  {
   "cell_type": "markdown",
   "metadata": {},
   "source": [
    "---\n",
    "## Task 3.4\n",
    "\n",
    "What is wrong with the following code:\n",
    "\n",
    "```python\n",
    "a = 5\n",
    "b = a - 3\n",
    "r = a - b\n",
    "print(\"The value is\", r)\n",
    "\n",
    "from nose.tools import assert_equal\n",
    "assert_equal(c, 3)\n",
    "```\n",
    "\n",
    "* **a**) We forgot to define variable `c`.\n",
    "* **b**) We divide by zero.\n",
    "* **c**) We forgot to convert the type of `c` to `int`.\n",
    "* **d**) We tried to do an arithmetic operator with the types `int` and `str`."
   ]
  },
  {
   "cell_type": "code",
   "execution_count": null,
   "metadata": {},
   "outputs": [],
   "source": [
    "# Add your code here:\n",
    "solution = 'a'\n"
   ]
  },
  {
   "cell_type": "code",
   "execution_count": null,
   "metadata": {},
   "outputs": [
    {
     "name": "stdout",
     "output_type": "stream",
     "text": [
      "\n",
      "\u001b[37;42;2m  Correct choice!  \u001b[0m\n",
      "\n"
     ]
    }
   ],
   "source": [
    "# Test case, to not modify. (It is a bit obfuscated to not show the correct solution right away.)\n",
    "from unittest import TestCase\n",
    "test_case = TestCase()\n",
    "\n",
    "test_case.assertTrue(bytes(solution,'ascii')[0]*0xA == 0o1712, msg='This choice is incorrect.')\n",
    "\n",
    "\n",
    "print(\"\\n\\033[37;42;2m  Correct choice!  \\033[0m\\n\")"
   ]
  },
  {
   "cell_type": "code",
   "execution_count": null,
   "metadata": {},
   "outputs": [],
   "source": []
  }
 ],
 "metadata": {
  "copyright": {
   "author": "Bernhard Bermeitinger",
   "email": "bernhard.bermeitinger@unisg.ch"
  },
  "kernelspec": {
   "display_name": "base",
   "language": "python",
   "name": "python3"
  },
  "language_info": {
   "codemirror_mode": {
    "name": "ipython",
    "version": 3
   },
   "file_extension": ".py",
   "mimetype": "text/x-python",
   "name": "python",
   "nbconvert_exporter": "python",
   "pygments_lexer": "ipython3",
   "version": "3.12.4"
  },
  "toc-autonumbering": false,
  "toc-showcode": false,
  "widgets": {
   "application/vnd.jupyter.widget-state+json": {
    "state": {},
    "version_major": 2,
    "version_minor": 0
   }
  }
 },
 "nbformat": 4,
 "nbformat_minor": 4
}
